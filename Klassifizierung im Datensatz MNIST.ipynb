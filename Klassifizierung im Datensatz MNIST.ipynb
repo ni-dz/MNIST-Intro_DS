{
 "cells": [
  {
   "cell_type": "markdown",
   "metadata": {
    "collapsed": false
   },
   "source": [
    "# Klassifikation im Datensatz MNIST\n",
    "\n"
   ]
  },
  {
   "cell_type": "markdown",
   "metadata": {
    "collapsed": false
   },
   "source": [
    "## Inhaltsverzeichnis\n",
    "\n",
    "1. **Konfiguration**\n",
    "2. **Der MNIST\\-Datensatz**\n",
    "   1. Laden des MNIST\\-Datensatzes\n",
    "   2. Der rohe MNIST\\-Datensatz\n",
    "      1. Labeldateien\n",
    "      2. Imagedateien\n",
    "3. **Allgemeine Informationen über künstliche neuronale Netze**\n",
    "   1. Arten von neuronalen Netzen\n",
    "      1. Das künstliche Neuron\n",
    "      2. feed forward neural network\n",
    "      3. recurrent neural networks\n",
    "      4. convolutional neural networks\n",
    "   2. Aktivierungsfunktionen\n",
    "      1. Schwellenwertfunktion\n",
    "      2. lineare Funktion\n",
    "      3. Sigmoid\\-Funktion\n",
    "      4. Tanh\\-Funktion\n",
    "      5. Rectified Linear Unit \\(ReLU\\)\n",
    "      6. Softmax\n",
    "   3. Verlustfunktionen\n",
    "      1. Kreuzentropie\n",
    "   4. Gradientenabstiegsverfahren\n",
    "   5. Backpropagation\n",
    "4. **MNIST Modell**\n",
    "   1. Flatten\n",
    "   2. Dense\n",
    "   3. Dropout\n",
    "   4. Optimizer\n",
    "   5. Loss\n",
    "   6. Metrics\n",
    "   7. Fit\n",
    "   8. Evaluate\n",
    "   9. Predict\n",
    "   10. Relevanz\n",
    "   11. Sensitivität\n",
    "   12. F\\-Score\n",
    "5. **Das zweite MNIST Modell**\n",
    "   1. Sequential\n",
    "   2. Conv2D\n",
    "   3. Filter\n",
    "   4. MaxPooling2D\n",
    "   5. Relevanz\n",
    "   6. Sensitivität\n",
    "   7. F\\-Score\n",
    "6. **Fazit**\n",
    "7. **Quellenverzeichnis**\n",
    "\n"
   ]
  },
  {
   "cell_type": "markdown",
   "metadata": {
    "collapsed": false
   },
   "source": [
    "## Konfiguration\n",
    "\n"
   ]
  },
  {
   "cell_type": "markdown",
   "metadata": {
    "collapsed": false
   },
   "source": [
    "Importieren wir zunächst alles, was für alle folgenden Quelltexte benötigt wird.\n"
   ]
  },
  {
   "cell_type": "code",
   "execution_count": 1,
   "metadata": {
    "collapsed": false
   },
   "outputs": [
    {
     "name": "stdout",
     "output_type": "stream",
     "text": [
      "Konfiguration abgeschlossen\n"
     ]
    }
   ],
   "source": [
    "import numpy as np\n",
    "import tensorflow as tf\n",
    "import gzip\n",
    "import matplotlib.pyplot as plt\n",
    "from IPython.display import Image\n",
    "print(\"Konfiguration abgeschlossen\")"
   ]
  },
  {
   "cell_type": "markdown",
   "metadata": {
    "collapsed": false
   },
   "source": [
    "# Der MNIST Datensatz\n",
    "\n",
    "Der MNIST Datensatz ist einer der bekanntesten Datensätze für maschinelles Lernen.\n",
    "\n",
    "Der Datensatz umfasst insgesamt 70000 von Hand geschriebene Ziffern in schwarz\\-weiß sowie die dazugehörigen Labels, welche angeben um welche Zahl es sich bei einem Bild handelt. Dieser Datensatz lässt sich in Trainings\\- und Testdatensatz unterteilen, wobei der Trainingsdatensatz 60000 und der Testdatensatz 10000 Daten umfasst. \n",
    "\n"
   ]
  },
  {
   "cell_type": "markdown",
   "metadata": {
    "collapsed": false
   },
   "source": [
    "## Laden des MNIST Datensatzes\n",
    "\n"
   ]
  },
  {
   "cell_type": "code",
   "execution_count": 2,
   "metadata": {
    "collapsed": false
   },
   "outputs": [
    {
     "name": "stdout",
     "output_type": "stream",
     "text": [
      "Die Trainingsdaten werden nun geladen\n",
      "-----------------------------------------\n",
      "\n",
      "Das Laden der Testlabels war erfolgreich\n",
      "Das Laden der Testimages war erfolgreich\n",
      "\n",
      "Die Testdaten werden nun geladen\n",
      "-----------------------------------------\n",
      "\n",
      "Das Laden der Testlabels war erfolgreich\n",
      "\n",
      "Das Laden der Testimages war erfolgreich\n",
      "\n",
      "Das Laden des MNIST-Datensatzes ist abgeschlossen\n"
     ]
    }
   ],
   "source": [
    "# Trainingsdaten\n",
    "print(\"Die Trainingsdaten werden nun geladen\")\n",
    "print(\"-\"*41+\"\\n\")\n",
    "with gzip.open(\"train-labels-idx1-ubyte.gz\") as file:\n",
    "    train_labels = np.frombuffer(file.read(), np.uint8(), offset=8)\n",
    "    print(\"Das Laden der Testlabels war erfolgreich\")\n",
    "with gzip.open(\"train-images-idx3-ubyte.gz\") as file:\n",
    "    train_images = np.frombuffer(file.read(), np.uint8(), offset=16).reshape(len(train_labels), 28, 28) / 255\n",
    "    print(\"Das Laden der Testimages war erfolgreich\")\n",
    "# Testdaten\n",
    "print(\"\\n\" + \"Die Testdaten werden nun geladen\")\n",
    "print(\"-\"*41+\"\\n\")\n",
    "with gzip.open(\"t10k-labels-idx1-ubyte.gz\") as file:\n",
    "    test_labels = np.frombuffer(file.read(), np.uint8, offset=8)\n",
    "    print(\"Das Laden der Testlabels war erfolgreich\\n\")\n",
    "with gzip.open(\"t10k-images-idx3-ubyte.gz\") as file:\n",
    "    test_images = np.frombuffer(file.read(), np.uint8, offset=16).reshape(len(test_labels), 28, 28) / 255\n",
    "    print(\"Das Laden der Testimages war erfolgreich\")\n",
    "print(\"\\n\"+\"Das Laden des MNIST-Datensatzes ist abgeschlossen\")\n",
    "\n",
    "test_images = np.reshape(test_images, (-1, 28, 28, 1))\n",
    "train_images = np.reshape(train_images, (-1, 28, 28, 1))"
   ]
  },
  {
   "cell_type": "markdown",
   "metadata": {
    "collapsed": false
   },
   "source": [
    "### Der rohe MNIST Datensatz\n",
    "\n",
    "Der MNIST Datensatz ist verfügbar unter [http://yann.lecun.com/exdb/mnist/](https://yann.lecun.com/exdb/mnist/) und liegt hierbei in Rohform vor. Auf der Seite lassen sich 4 Dateien finden: Die Trainingslabels und \\-images sowie die Testlabels und \\-images. \n",
    "\n",
    "Um die Datensätze zum Trainings eines Modells verwenden zu können müssen diese aus den Rohdateien extrahiert werden. \n",
    "\n",
    "Diese Dateien liegen als .ubyte Dateien vor, das heißt, dass diese aus eine Folge von 8\\-bit unsigned integer bestehen, welche einen Wert zwischen 0 und 255 annehmen können. Dies lässt sich anhand der Transformation von Zahlen zwischen dem binären Zahlensystem und dem Dezimalsystem schlussfolgern 00000000 binär stellt hierbei 0 dezimal dar. 11111111 binär stellt hierbei 255 dezimal dar. Jede der 4 Dateien beginnt mit einem 32\\-bit integer, der \"magicnumber\", welche als Kennung dient und bei den Labeldateien 2049 und bei den Imagedateien 2051 entspricht. Gefolgt wird diese \"magicnumber\" von einem weiteren 32\\-bit integer der Anzahl von Daten in diesem Datensatz, bei den Trainingsdaten also 60000und bei den Testdaten 10000.\n",
    "\n"
   ]
  },
  {
   "cell_type": "markdown",
   "metadata": {
    "collapsed": false
   },
   "source": [
    "#### Labeldateien\n",
    "\n",
    "Nach der \"magicnumber\" und der Anzahl der Daten in dem Datensatz  folgt eine Folge von 8\\-bit unsigned integer. Diese enthalten einen Wert zwischen 0 und 9 und geben an, welche Zahl durch ein Bild tatsächlich dargestellt werden soll. Um diese verwenden zu können, wird ein Array erstellt, dessen Länge gleich der Anzahl der Daten in dem Datensatz ist.  len\\(train\\_labels\\) würde also den Wert 60000 liefern und len\\(test\\_labels\\) den Wert 10000. Jedes Element des Arrays ist ein 8\\-bit unsigned integer, welches den Wert des Labels enthält. \n",
    "\n"
   ]
  },
  {
   "cell_type": "markdown",
   "metadata": {
    "collapsed": false
   },
   "source": [
    "#### Imagedateien\n",
    "\n",
    "Nach der \"magicnumber\" und der Anzahl der Daten im Datensatz folgen bei den Imagedateien zwei weitere 32\\-bit integer, welche die Informationen über die Anzahl der Pixel eines Bildes beinhalten: 28 pro Zeile und 28 pro Spalte, also eine Gesamtanzahl von 784 Pixeln pro Bild. Ein 8\\-bit unsigned Integer kann wie bereits erwähnt Ganzzahlen zwischen 0 und 255 abbilden. Dies entspricht den Werten des Grauwert\\-Wertebereichs, bei welchem 0 für weiß und 255 für schwarz steht. Der Wert, welcher in einem Byte gespeichert ist entspricht also dem Grauwert eines Pixels. Die Pixel sind hierbei Zeilenweise gespeichert, um das Bild der ersten Zahl zu konstruieren braucht man also die ersten 784 Byte, welche auf die Anzahl der Spalten folgen. Hierbei stellen die ersten 28 Byte die erste Pixelzeile des Bildes dar, die zweiten 28 Pixel die zweite und so weiter.  Würde man hier genauso verfahren wie bei den Labeldatein und würde ebenfalls ein eindimensionales Array erstellen, so würde dies bei den Trainingsimages 47.040.000 Elemente enthalten und bei den Testimages 7.840.000. Dies lässt sich jedoch vereinfachen, indem jedes Element des eindimensionalen Arrays kein 8\\-bit unsigned Integer ist, sondern ein zweidimensionales Array mit den Werten 28\\*28, bildlich gesprochen also ein Bild einer handgeschrieben Ziffer. len\\(train\\_images\\) würde also den Wert 60000 zurückliefern, jedoch ist an jeder Stelle des Arrays nicht wie bei den train\\_labels ein 8\\-bit unsigned integer, sondern ein zweidimensionales Array. \n"
   ]
  },
  {
   "cell_type": "code",
   "execution_count": 3,
   "metadata": {
    "collapsed": false
   },
   "outputs": [
    {
     "name": "stdout",
     "output_type": "stream",
     "text": [
      "Klasse: 9\n"
     ]
    },
    {
     "data": {
      "image/png": "[encoded data removed]",
      "text/plain": [
       "<Figure size 640x480 with 1 Axes>"
      ]
     },
     "metadata": {},
     "output_type": "display_data"
    },
    {
     "name": "stdout",
     "output_type": "stream",
     "text": [
      "Auflösung des Bildes: 28 * 28 \n",
      "Gesamtanzahl der Pixel: 784\n"
     ]
    }
   ],
   "source": [
    "n = 1500\n",
    "print(\"Klasse:\", train_labels[n])\n",
    "ziffer = train_images[n]\n",
    "ziffer = ziffer.reshape(28, 28)\n",
    "plt.imshow(ziffer, cmap = plt.cm.binary,\n",
    "           interpolation=\"nearest\")\n",
    "plt.xlabel(\"Zeilen\")\n",
    "plt.ylabel(\"Spalten\")\n",
    "plt.show()\n",
    "print(\"Auflösung des Bildes:\",len(ziffer),\"*\",len(ziffer[0]),\"\\nGesamtanzahl der Pixel:\", len(ziffer)*len(ziffer[0]))"
   ]
  },
  {
   "cell_type": "markdown",
   "metadata": {
    "collapsed": false
   },
   "source": [
    "Dieses Bild dient zur beispielhaften Visualisierung einer handgeschriebenen Ziffer, welche Teil des MNIST\\-Datensatzes ist.\n",
    "\n"
   ]
  },
  {
   "cell_type": "markdown",
   "metadata": {
    "collapsed": false
   },
   "source": [
    "# Allgemeine Informationen über künstliche neuronale Netze\n",
    "\n",
    "Ein künstliches neuronales Netz besteht aus vielen miteinander verbundenen künstlichen Neuronen und ist unserem Gehirn nachempfunden. Bei dieser Veranschaulichung entsprechen die Neuronen in unserem Gehirn den künstlichen Neuronen im neuronalen Netz. Die Synapsen im Gehirn stellen in unserem Modell die Verbindungen zwischen den künstlichen Neuronen dar. Die Dendriten des biologischen Neurons lassen sich mit den Inputs des künstlichen Neurons und das Axon mit dem Output des künstlichen Neurons. Die Gesamtstruktur, das künstliche neuronale Netz lässt sich mit unserem Gehirn vergleichen.\n",
    "\n"
   ]
  },
  {
   "cell_type": "markdown",
   "metadata": {
    "collapsed": false
   },
   "source": [
    "## Arten von neuronalen Netzen\n",
    "\n",
    "Es gibt verschiedene Arten von künstlichen neuronalen Netzen. \n",
    "\n",
    "Das einfachste künstliche neuronale Netz ist das _Perzeptron_ \\(engl. _Perceptron_\\), ein neuronales Netz bestehend aus einem einzigen künstlichen Neuron.\n",
    "\n"
   ]
  },
  {
   "cell_type": "markdown",
   "metadata": {
    "collapsed": false
   },
   "source": [
    "### Das künstliche Neuron\n",
    "\n",
    "Das künstliche Neuron ähnelt sehr dem biologischen Neuron. Das biologische Neuron bekommt über die Dendriten ein elektrisches Signal, welches dann im Zellkern verarbeitet wird und anschließend über das Axon weitergegeben wird. Diese Elemente lassen sich auch bei einem künstlichen Neuron wiederfinden. Am Besten lässt sich dies anhand einer Abbildung von Franck Rosenblatt, dem Erfinder des Perzeptrons verdeutlichen.\n",
    "\n"
   ]
  },
  {
   "cell_type": "code",
   "execution_count": 4,
   "metadata": {
    "collapsed": false,
    "scrolled": true
   },
   "outputs": [
    {
     "data": {
      "image/png": "[encoded data removed]",
      "text/plain": [
       "<IPython.core.display.Image object>"
      ]
     },
     "metadata": {},
     "output_type": "display_data"
    }
   ],
   "source": [
    "display(Image(\"Abbildung 1.png\"))"
   ]
  },
  {
   "cell_type": "markdown",
   "metadata": {
    "collapsed": false
   },
   "source": [
    "[https://upload.wikimedia.org/wikipedia/commons/7/7f/ArtificialNeuronModel\\_deutsch.png](https://upload.wikimedia.org/wikipedia/commons/7/7f/ArtificialNeuronModel_deutsch.png) \n",
    "\n",
    "Jedes Neuron hat eine oder auch mehrere Eingaben \\(in der Abbildung: $x_1, x_2, x_3, ..., x_n$\\) diese Eingaben entsprechen den elektrischen Signalen, welche ein biologisches Neuron über die Dendriten empfängt. \n",
    "\n",
    "Diese Eingaben werden mit den entsprechenden Gewichten \\(in der Abbildung: $w_1, w_2, w_3, ..., w_n$\\) multipliziert. Die Gewichte werden entweder als inhibitorisch \\(hemmend\\) oder exzitatorisch \\(erregend/stimulierend\\) bezeichnet, da die Gewichtungen die Eingabewerte entweder verstärken oder abschwächen können.  Die Übertragungsfunktion addiert die Produkte alle Eingaben mit ihren Gewichten. Die Übertragungsfunktion, deren Ergebnis im Folgenden als $\\alpha$ bezeichnet wird, lässt sich also mathematisch wie folgt darstellen. $\\alpha = \\sum^n_{i=1} x_i * w_i$ \n"
   ]
  },
  {
   "cell_type": "markdown",
   "metadata": {
    "collapsed": false
   },
   "source": [
    "### feed forward neural network\n",
    "\n",
    "Im ersten Versuch verwenden wir das _**feed forward neural network**_**,** welches eines der ältesten Arten von künstlichen neuronalen Netzen ist. In diesen Fall sind die Neuronen aus der einen Schicht lediglich mit der Neuronen in der nächsten Schicht verbunden. Es sind zwar alle Neuronen verbunden, jedoch gibt es in dieser Netzform keine Kanten, welche von einer Schicht auf die vorherige wirken können, da die Aktivierung von Eingangs\\- zu der Ausgangsschicht läuft.\n"
   ]
  },
  {
   "cell_type": "markdown",
   "metadata": {
    "collapsed": false
   },
   "source": [
    "### recurrent neural network\n",
    "\n",
    "Die _**recurrent neural networks**_ besitzen die Eigenschaften, dass sie eine Art Gedächtnis durch wiederkehrende Zellen erhalten, welche bei jedem Durchlauf wiederkehren und sich so vorherige Schritte beeinflussbar bleiben. _Recurrent neural networks_ werden gerne verwendet, wenn es eine genauen Kontext gibt, für den diese Eigenschaften des Netzes benötigt werden. Diese Netzform ist also in der Lage innerhalb einer Schicht sowie zu den Neuronen in den Schichten davor und danach Verbindungen herzustellen. Oft findet man diese Netzart im Kontext einer Entdeckung von zeitlich codierten Informationen in einer Datenmenge wieder. Die rekurrenten Netze lassen sich zusätzlich in folgende Rückkopplungen unterteilen. Die direkte Rückkopplung verwendet den Ausgang eines künstlichen Neurons als weiteren Eingang von diesem. Bei der indirekten Rückkopplung wird der Ausgangswert eines Neurons als weiterer Eingangswert für ein Neuron der vorherigen Schicht verwendet. Die seitliche Rückkopplung hat die Eigenschaft, dass ein Ausgangswert eines Neurons einen Eingangswert eines Neurons derselben Schicht darstellt. Hat jedes Neuron eine Verbindung zu allen anderen Neuronen aller Schichten, spricht man von einer vollständigen Verbindung innerhalb des Netzes.\n"
   ]
  },
  {
   "cell_type": "markdown",
   "metadata": {
    "collapsed": false
   },
   "source": [
    "### convolutional neural networks\n",
    "\n",
    "Als eine weitere populäre Form \\(gerade bei der Bilderkennung\\) der künstlichen neuronalen Netze ist das _**convolutional neural networks**_ \\(faltende neuronale Netze\\), da diese Netzform sehr gut mit mehrdimensionalen Eingabedaten \\(wie beispielsweise mehrdimensionalen Arrays\\) umgehen kann. Die Besonderheit bei _convolutional neural networks_ ist, dass in den sogenannten _hidden layers_ bestimmte Abfolgen von Filter\\- und Poolingoperationen \\(Kapitel 5.5\\) durchgeführt werden, welche es ermöglichen, die Gewichtungen der künstlichen Neuronen gezielt zu Verändern und danach mithilfe der Poolingoperation zu vereinfachen \\(Kapitel 5.3\\). Diese Funktionen sind von hoher Bedeutung, da dadurch die Eingabedaten vereinfacht und komprimiert werden können. Am Ende ergibt sich daraufhin aus diesen Schritten in der Ausgabeschicht ein Vektor, welcher dann für die genaue Zuordnung der Wahrscheinlichkeiten für die genauen Ziffern wichtig ist. Durch die Filter werden bestimmte Stellen innerhalb des Bildes hervorgehoben \\(Kapitel 5.4\\).\n",
    "\n",
    "Das neuronale Netz wird dann insbesondere darauf trainiert diese Stellen zu erkennen und anhand dieser Stellen in unserem Fall die Ziffer zu identifizieren. Dies hat zur Folge, dass eine Ziffer nicht anhand der linearisierten Pixelfolge mit den Helligkeitswerten erkannt wird, sondern anhand der Kanten und Linienführung der Ziffern erkannt wird.\n",
    "\n"
   ]
  },
  {
   "cell_type": "markdown",
   "metadata": {
    "collapsed": false
   },
   "source": [
    "## Aktivierungsfunktionen\n",
    "\n",
    "Es gibt verschiedene Arten von Aktivierungsfunktionen bei einem künstlichen Neuron, im Folgenden werden einige behandelt. \n",
    "\n"
   ]
  },
  {
   "cell_type": "markdown",
   "metadata": {
    "collapsed": false
   },
   "source": [
    "### Schwellenwertfunktion\n",
    "\n",
    "Die Schwellenwertfunktion ist keine mathematische Funktion, sondern eher mit einem Boolean, also Wahrheitswert, zu vergleichen. Die Funktion kann hierbei nur 2 Werte annehmen 0 und 1. Die Funktion nimmt den Wert 1 an, wenn $\\alpha \\geq 0_j$ also größer als der Schwellwert ist. \n"
   ]
  },
  {
   "cell_type": "markdown",
   "metadata": {
    "collapsed": false
   },
   "source": [
    "### lineare Funktion\n",
    "\n",
    "Es gibt zwei Arten von linearen Aktivierungsfunktionen: Aktivierungsfunktionen, welche vollkommen linear sind und Aktivierungsfunktionen, welche nur abschnittsweise linear sind. Lineare Aktivierungsfunktionen können, wie der Name vermuten lässt nur einen linearen Zusammenhang zwischen Input und Output modellieren. Abschnittsweise lineare Funktionen beinhalten eine lineare Funktion, welche jedoch begrenzt ist.\n",
    "\n",
    "Beispiel:\n",
    "\n",
    "$\\phi_{(\\alpha)}=\n",
    "\\left\\{\n",
    "\\begin{matrix}\n",
    "-1 \\ wenn \\ \\alpha \\leq -1\\\\\n",
    "1 \\ wenn \\ \\alpha \\geq 1\\\\\\\n",
    "m * \\alpha \\ wenn \\ \\alpha < 1 \\ and \\ \\alpha > -1\n",
    "\\end{matrix}\n",
    "\\right\\}$\n",
    "\n"
   ]
  },
  {
   "cell_type": "code",
   "execution_count": 5,
   "metadata": {
    "collapsed": false
   },
   "outputs": [
    {
     "data": {
      "image/png": "[encoded data removed]",
      "text/plain": [
       "<Figure size 640x480 with 1 Axes>"
      ]
     },
     "metadata": {},
     "output_type": "display_data"
    },
    {
     "name": "stdout",
     "output_type": "stream",
     "text": [
      "Abbildung abschnittsweise lineare Funktion\n"
     ]
    }
   ],
   "source": [
    "x = np.linspace(-2, 2, 300)\n",
    "y = [-1]*300\n",
    "\n",
    "for z in range(300):\n",
    "    if x[z] > -1 and x[z]<1:\n",
    "        y[z]= x[z]\n",
    "    elif x[z] >= 1:\n",
    "        y[z] = 1\n",
    "\n",
    "plt.plot(x, y)\n",
    "plt.xlabel(\"α\")\n",
    "plt.ylabel(\"abschnittsweise lineare Funktion Φ(α)\")\n",
    "\n",
    "plt.show()\n",
    "print(\"Abbildung abschnittsweise lineare Funktion\")"
   ]
  },
  {
   "cell_type": "markdown",
   "metadata": {
    "collapsed": false
   },
   "source": [
    "### Sigmoid\\-Funktion\n",
    "\n",
    "Die Sigmoid\\-Funktion ist eine Funktion, welche die Werte der Übertragungsfunktion auf einer Skala von 0 bis 1 abbildet. Hierbei sieht die mathematische Funktion der einfachen Sigmoid\\-Funktion wie folgt aus: $\\phi_{(\\alpha)} = \\frac{1}{1+e^{-\\alpha}}$  \\(siehe Abbildung Sigmoid\\-Funktion\\)\n",
    "\n"
   ]
  },
  {
   "cell_type": "code",
   "execution_count": 6,
   "metadata": {
    "collapsed": false
   },
   "outputs": [
    {
     "data": {
      "image/png": "[encoded data removed]",
      "text/plain": [
       "<Figure size 640x480 with 1 Axes>"
      ]
     },
     "metadata": {},
     "output_type": "display_data"
    },
    {
     "name": "stdout",
     "output_type": "stream",
     "text": [
      "Abbildung Sigmoid-Funktion\n"
     ]
    }
   ],
   "source": [
    "x = np.linspace(-15, 15, 300)\n",
    "y = list(map(lambda x: 1 / (1 + np.exp(-x)), x))\n",
    "\n",
    "plt.plot(x, y)\n",
    "plt.xlabel(\"α\")\n",
    "plt.ylabel(\"Sigmoidfunktion Φ(α)\")\n",
    "\n",
    "plt.show()\n",
    "print(\"Abbildung Sigmoid-Funktion\")"
   ]
  },
  {
   "cell_type": "markdown",
   "metadata": {
    "collapsed": false
   },
   "source": [
    "Die Sigmoid\\-Funktion hat jedoch zwei Nachteile. Die Funktion nähert sich für für $\\lim_{\\alpha\\to\\infty}\\ {\\phi_{(\\alpha)}\\to1}$ und für $\\lim_{\\alpha\\to-\\infty}\\ {\\phi_{(\\alpha)}\\to0}$. Durch dieses Verhalten im Unendlichen folgt für wie Ableitungsfunktion $\\phi'_{(\\alpha)}$ :  $\\lim_{\\alpha\\to\\infty}\\ {\\phi'_{(\\alpha)}\\to0}$ und $\\lim_{\\alpha\\to-\\infty}\\ {\\phi'_{(\\alpha)}\\to0}$\n",
    "\n",
    "Dies hat zur Folge, dass die Anpassung der Gewichte und damit der Lernprozess des künstlichen Neuronalen Netzes stark verlangsamt oder verhindert wird, wenn die Werte für $\\alpha$ sehr groß oder sehr klein werden, da beim Gradientenabstiegsverfahren nach einem lokalen und/oder globalen Minimum der Ableitungsfunktion gesucht wird. Die Ableitungsfunktion der Sigmoid\\-Funktion hat jedoch kein globales Minimum, sondern nur ein globales Maximum für $\\alpha = 0$ . Da sich $\\phi'_{(\\alpha)}$ für immer größer oder kleinere Werte für $\\alpha$ sich immer näher an die x\\-Achse anschmiegt, gibt es auch kein echtes globales Minimum, da die Funktion $\\phi'_{(\\alpha)}$ nie den Wert 0 annimmt. \n",
    "\n",
    "Der Zweite Nachteil der Funktion ist, dass sie nicht Nullzentriert also nicht punktsymmetrisch zum Ursprung des Koordinatensystems ist, sondern Punktsymmetrisch zum Punkt \\[0|0.5\\]. Daher gilt $\\forall \\phi_{(\\alpha)} : \\phi_{(\\alpha)} > 0$\n",
    "\n",
    "Dies hat zur Folge, dass ein Layer in einem neuronalen Netz von einem vorherigen Layer, welches die Sigmoid\\-Funktion als Aktivierungsfunktion genutzt hat nur positive Inputs bekommt. Dadurch ist, abhängig vom Gradienten des gesamten Ausdrucks, der Gradient für die Gewichte entweder positiv für alle Gewichte des Neurons oder negativ  für alle Gewichte des Neurons. Dies hat zur Folge, dass entweder alle Gewichte des Neurons erhöht werden oder alle Gewichte des Neurons gesenkt werden. Häufig wäre jedoch das Optimum die Anhebung eines und die Absenkung eines anderen Gewichtes, dies ist jedoch nicht möglich. \n",
    "\n"
   ]
  },
  {
   "cell_type": "markdown",
   "metadata": {
    "collapsed": false
   },
   "source": [
    "### Tanh\\-Aktivierungsfunktion\n",
    "\n",
    "Die Tanh\\-Aktivierungsfunktion ist der Sigmoid\\-Funktion sehr ähnlich und liefert Werte $-1 < \\alpha < 1$ . Die Gleichung der Tanh\\-Funktion sieht wie folgt aus: $\\phi_{(\\alpha)} = \\frac{e^x-e^{-x}}{e^x+e^{-x}}$\n",
    "\n"
   ]
  },
  {
   "cell_type": "code",
   "execution_count": 7,
   "metadata": {
    "collapsed": false
   },
   "outputs": [
    {
     "data": {
      "image/png": "[encoded data removed]",
      "text/plain": [
       "<Figure size 640x480 with 1 Axes>"
      ]
     },
     "metadata": {},
     "output_type": "display_data"
    },
    {
     "name": "stdout",
     "output_type": "stream",
     "text": [
      "Abbildung Tanh-Funktion\n"
     ]
    }
   ],
   "source": [
    "x = np.linspace(-15, 15, 300)\n",
    "y = list(map(lambda x: (np.exp(x) - np.exp(-x))/ (( np.exp(x) + np.exp(-x))), x))\n",
    "\n",
    "plt.plot(x, y)\n",
    "plt.xlabel(\"α\")\n",
    "plt.ylabel(\"Tanh-Funktion Φ(α)\")\n",
    "\n",
    "plt.show()\n",
    "print(\"Abbildung Tanh-Funktion\")"
   ]
  },
  {
   "cell_type": "markdown",
   "metadata": {
    "collapsed": false
   },
   "source": [
    "Die Tanh\\-Funktion hat, ebenso wie die Sigmoid\\-Funktion den Nachteil, dass die Werte der Ableitungsfunktion für sehr große oder sehr kleine Werte für $\\alpha$ sehr klein werden. Dies gilt weil: $\\lim_{\\alpha\\to\\infty}\\ {\\phi_{(\\alpha)}\\to1}$ und $\\lim_{\\alpha\\to-\\infty}\\ {\\phi_{(\\alpha)}\\to-1}$ weshalb für die Ableitungsfunktion $\\phi'_{(\\alpha)}$ folgt: $\\lim_{\\alpha\\to\\infty}\\ {\\phi'_{(\\alpha)}\\to0}$ und $\\lim_{\\alpha\\to-\\infty}\\ {\\phi'_{(\\alpha)}\\to0}$ dies führt, wie bereits beschrieben dazu, dass der Gradient für sehr große oder sehr kleine Werte für $\\alpha$ sich 0 annähert, wodurch die Anpassung der Gewichte und damit der Lernprozess des neuronalen Netzes stark verlangsamt oder sogar verhindert wird. Ebenso wie die Ableitung der Sigmoid\\-Funktion hat auch die Ableitung der Tanh\\-Funktion kein lokales oder globales Minimum, sondern nur ein globales Maximum für $\\alpha = 0$ \n",
    "\n",
    "Einen Vorteil hat die Tanh\\-Funktion jedoch gegenüber der Sigmoid\\-Funktion. Im Gegensatz zur Sigmoid\\-Funktion ist die Tanh\\-Funktion Nullzentriert, das heißt punktsymmetrisch zum Ursprung des Koordinatensystems, weshalb gilt $\\forall \\phi_{(\\alpha)} : -1 <\\phi_{(\\alpha)} < 1$ somit kann der Output von Neuronen in einem Layer, welches die Tanh\\-Funktion nutzt sowohl positiv als auch negativ sein. Weshalb auch eine Erhöhung von einem Gewicht und eine Absenkung eines anderen Gewichts beim selben Neuron möglich ist. Deshalb wird die Tanh\\-Funktion in der Regel der Sigmoid\\-Funktion vorgezogen, da der Lernprozess von neuronalen Netzen, welche die Tanh\\-Funktion nutzen, schneller ist als der Lernprozess von neuronalen Netzten, welche die Sigmoid\\-Funktion nutzen\n",
    "\n"
   ]
  },
  {
   "cell_type": "markdown",
   "metadata": {
    "collapsed": false
   },
   "source": [
    "### Rectified Linear Unit \\(ReLU\\)\n",
    "\n",
    "Bei der ReLU\\-Funktion handelt es sich um eine abschnittsweise lineare Funktion, da es sich hierbei jedoch um eine besondere abschnittsweise lineare Funktion handelt, behandeln wir diese hier näher:\n",
    "\n",
    "$\\phi_{(\\alpha)}=\n",
    "\\left\\{\n",
    "\\begin{matrix}\n",
    "\\alpha \\ wenn \\ \\alpha > 0 \\\\\n",
    "0 \\ wenn \\ \\alpha \\leq 0\n",
    "\\end{matrix}\n",
    "\\right\\}$\n",
    "\n"
   ]
  },
  {
   "cell_type": "code",
   "execution_count": 8,
   "metadata": {
    "collapsed": false
   },
   "outputs": [
    {
     "data": {
      "image/png": "[encoded data removed]",
      "text/plain": [
       "<Figure size 640x480 with 1 Axes>"
      ]
     },
     "metadata": {},
     "output_type": "display_data"
    },
    {
     "name": "stdout",
     "output_type": "stream",
     "text": [
      "Abbildung ReLU-Funktion\n"
     ]
    }
   ],
   "source": [
    "x = np.linspace(-3,3,300)\n",
    "y = np.maximum(0,x)\n",
    "plt.plot(x,y)\n",
    "plt.xlabel(\"α\")\n",
    "plt.ylabel(\"ReLU Φ(α)\")\n",
    "\n",
    "plt.show()\n",
    "print(\"Abbildung ReLU-Funktion\")"
   ]
  },
  {
   "cell_type": "markdown",
   "metadata": {
    "collapsed": false
   },
   "source": [
    "Die ReLu\\-Funktion hat einen entscheidenden Vorteil gegenüber der Sigmoid\\-Funktion. Die Problematik, dass bei der Simoid\\-Funktion der Gradient für immer größer oder immer kleinere Werte von $\\alpha$ nahezu verschwindet beziehungsweise sich 0 annähert, da $\\phi'_{(\\alpha)}$ für immer größer oder immer kleiner werdendes $\\alpha$ sich der x\\-Achse annähert. Im Gegensatz dazu hat die ReLU\\-Funktion für alle Werte $\\alpha > 0$  einen konstanten Gradienten,  da die ReLU Funktion sich für alle Werte $\\alpha \\geq 0$ auch mit einer linearen Funktion beschreiben ließe, deren Ableitung einen konstanten Wert liefert. Dieser konstante Gradient führt zu einem schnelleren Lernvorgang, da der Gradient nicht \"verschwindet\" wie dies bei der Sigmoid\\-Funktion oder der Tanh\\-Funktion der Fall ist. \n"
   ]
  },
  {
   "cell_type": "markdown",
   "metadata": {
    "collapsed": false
   },
   "source": [
    "### Softmax\n",
    "\n",
    "Die Softmax\\-Aktivierungsfunktion unterscheidet sich von den anderen Aktivierungsfunktionen, da bei dieser Funktion die Werte der anderen Neuronen im selben Layer eine Rolle spielen. Anhand der Werte in den Neuronen, wird eine Wahrscheinlichkeit berechnet, die Summe der Outputs aller Neuronen in einem Layer beträgt also 1. Die Softmax\\-Funktion wird sehr häufig bei Klassifizierungen für das Output\\-Layer verwendet wird, da dadurch die Wahrscheinlichkeit errechnet wird zu wie viel Prozent etwas ein bestimmtes Objekt oder um beim Beispiel des MNIST\\-Datensatzes zu bleiben zu wie viel Prozent der Input eine bestimmte Ziffer darstellt. \n",
    "\n",
    "Aufgrund dessen hat das Output Layer des neuronalen Netzes, welches mithilfe des MNIST Datensatzes trainiert wurde, 10 Neuronen wobei jedes Neuron errechnet, zu welcher Wahrscheinlichkeit der Input eine bestimmte Ziffer ist. Jedes Neuron im Output Layer hat also im Prinzip eine fest zugewiesene Ziffer für welche mithilfe der Softmax\\-Funktion die Wahrscheinlichkeit berechnet wird, dass eben diese Ziffer durch den Input abgebildet werden soll. \n",
    "\n",
    "Die mathematische Formel für die Berechnung der Werte lautet:\n",
    "\n",
    "$\\sigma = \\frac{e^{\\alpha_j}}{\\sum^n_{i=1} e^{\\alpha_i}}$\n",
    "\n",
    "Der Output des j\\-ten Neurons in einem Layer ist also der Potenzwert der eulerschen Zahl mit dem Exponenten $\\alpha_j$ , welches den Wert der Übertragungsfunktion im j\\-ten Neuron des Layers darstellt, geteilt durch die Summe aller Potenzwerte der eulerschen Zahl mit den jeweiligen Werten der Übertragungsfunktion von allen Neuronen in dem Layer. \n",
    "\n"
   ]
  },
  {
   "cell_type": "markdown",
   "metadata": {
    "collapsed": false
   },
   "source": [
    "## Verlustfunktionen\n",
    "\n",
    "Die Verlustfunktionen sorgen im Rahmen der Klassifizierung in einem künstlichen neuronalen Netz dafür, dass der Unterschied für den Output am Ende des neuronalen Netze mit dem tatsächlichen Labelwert so minimal wie möglich gehalten wird. Dafür werden Optimizer \\(Kapitel 5.4\\) verwendet, welche diesen Unterschied minimieren.\n"
   ]
  },
  {
   "cell_type": "markdown",
   "metadata": {
    "collapsed": false
   },
   "source": [
    "### Kreuzentropie\n",
    "\n",
    "In unserem Fall wird die im TensorFlow Framework enthaltene Kreuzentropie verwendet, welche mit der Aktivierungsfunktion _Softmax_ kombiniert ist. \n",
    "\n",
    "Während _Softmax_ Wahrscheinlichkeiten für die Klassenzugehörigkeit errechnet, also zu welcher Wahrscheinlichkeit es sich bei der, in einem Bild dargestellten, Ziffer um eine bestimmte Ziffer handelt, verwendet die Kreuzentropie diese Werte, um das Netz so auszurichten, sodass die Wahrscheinlichkeiten für die richtigen Netzausgaben erhöht werden.\n",
    "\n"
   ]
  },
  {
   "cell_type": "markdown",
   "metadata": {
    "collapsed": false
   },
   "source": [
    "## Gradientenabstiegsverfahren\n",
    "\n",
    "Das Gradientenverfahren dient dazu, das Minimum oder Maximum einer Funktion zu ermitteln. Ist das Minimum einer Funktion gesucht, nennt man das Verfahren Gradientenabstiegsverfahren oder Verfahren des steilsten Abstiegs. Jedoch ist dabei ein wichtiger Aspekt, dass das gefundene Maximum oder Minimum abhängig vom Startpunkt sein kann, da eine Funktion mehrere Minima oder Maxima aufweisen kann. Das Verfahren bricht dann ab, wenn keine weitere Optimierung des Ergebnisses in die gesuchte Richtung mehr gefunden werden kann. dadurch können nur lokale Minima und Maxima gefunden werden und noch keine globalen Minima oder Maxima. Diese Methode ist \\(auch im Bezug auf mögliche verfügbare Rechenleistung der Hardware\\) deutlich effizienter als das Minimum oder Maximum einfach über die Ableitung zu berechnen, da diese Berechnungen sonst in höheren mathematischen Dimensionen zu viel Rechenleistung benötigen würde.\n",
    "\n",
    "In dem Kontext der Ziffererkennung im Datensatz MNIST wird das Gradientenabstiegsverfahren angewendet, um das Minimum der Verlustfunktion \\(_tf.keras.losses.sparse\\_categorical\\_crossentropy_\\) zu finden, um die Qualität der Vorhersagen möglichst zu maximieren. \n",
    "\n",
    "Die Grundlage dieses Verfahren bildet eine linearer Gradient, welcher eine Suchgerade bildet, auf welcher man sich immer näher dem Minimum annähert. Der Gradient stellt die Ableitung einer Funktion mit mehr als einer unabhängigen Variable dar und zeigt daher in die Richtung, in die die Funktion am meisten steigt beziehungsweise am stärksten fällt. \n",
    "\n",
    "Um das \\(lokale\\) Minimum der Verlustfunktion zu finden, wird der Gradient in der negativen Steigungsrichtung abgegangen, da man sich sicher sein kann, dass dort das mögliche Minimum liegen muss. Sobald der Wert der Steigung in dieser Betrachtungsrichtung dann 0 wird, kann man festlegen, dass es sich dort entweder um ein \\(lokales\\) Minimum oder einen Sattelpunkt handeln muss. Um dies zu validieren schaut man dann eine Einheit über diesen Punkt in die andere Richtung hinweg und betrachtet dort die erste Ableitung an dieser Stelle. Sollte diese positiv sein \\(positive Steigung des Graphen an dieser Stelle\\), so muss der festgelegte Punkt ein \\(lokales\\) Minimum sein. Ist die Ableitung negativ, so ist dieser Punkt ein Sattelpunkt.\n",
    "\n"
   ]
  },
  {
   "cell_type": "markdown",
   "metadata": {
    "collapsed": false
   },
   "source": [
    "## Backpropagation\n",
    "\n",
    "Backpropagation ist der Lernalgorithmus in einem künstlichen neuronalen Netz und bildet damit das Herzstück des Netztes. Die Funktion von Backpropagation ist, dass sie einen Gradientenabstieg im Bezug auf die Gewichtungen berechnet und diese mit den Ausgaben des neuronalen Netzes vergleicht. \n",
    "\n",
    "Ist dieser Unterschied zwischen den errechneten Werten mit dem Gradientenabstieg und den Systemausgaben zu groß, werden gezielt vereinzelt Gewichte in den künstlichen Neuronen angepasst, um diesen Unterschied so gering wie möglich zu halten. Wie es der Name schon vermuten lässt, beginnt die Backpropagation von der letzten Schicht ausgehend und passt von dort aus Gewichte bis hin zum Input\\-Layer an. \n",
    "\n",
    "Die Backpropagation benötigt daher eine genaue gewünschte Ausgabe \\(Labels\\) für jeden Eingabewert beziehungsweise jede Eingabeziffer des MNIST\\-Datensatzes, um den Gradienten der Verlustfunktion \\(_tf.keras.losses.sparse\\_categorical\\_crossentropy_\\) zu errechnen. Da diese Gegebenheiten das neuronale Netz sehr überwacht berechnen und entscheiden lassen, nennt man diese Methode auch überwachtes \\(_supervised_\\) Lernen.\n",
    "\n"
   ]
  },
  {
   "cell_type": "markdown",
   "metadata": {
    "collapsed": false
   },
   "source": [
    "# MNIST Modell\n",
    "\n"
   ]
  },
  {
   "cell_type": "code",
   "execution_count": 9,
   "metadata": {
    "collapsed": false
   },
   "outputs": [],
   "source": [
    "model = tf.keras.models.Sequential()\n",
    "model.add(tf.keras.layers.Flatten())\n",
    "model.add(tf.keras.layers.Dense(128))\n",
    "model.add(tf.keras.layers.Dense(10, activation=\"softmax\"))\n",
    "model.compile(optimizer='adam',\n",
    "                  loss=tf.keras.losses.sparse_categorical_crossentropy,\n",
    "                  metrics=['accuracy'])"
   ]
  },
  {
   "cell_type": "markdown",
   "metadata": {
    "collapsed": false
   },
   "source": [
    "## Flatten\n",
    "\n",
    "Die Funktion _Flatten_ sorgt dafür, dass das Bild eindimensional in einer Datenstruktur gespeichert wird. \n",
    "\n",
    "Es stehen die Grauwerte daher nicht mehr in einem 2 dimensionalen Array, welches 28 mal 28 Einheiten groß ist, sondern stehen nun in einem eindimensionalen, welches nun 784 Einheiten lang ist.\n",
    "\n"
   ]
  },
  {
   "cell_type": "markdown",
   "metadata": {
    "collapsed": false
   },
   "source": [
    "## Dense\n",
    "\n",
    "In der darauffolgenden Schicht des neuronalen Netzes werden dann die \"abgeflachten\" Bilder in eine Schicht überführt welche sich _Dense_ nennt.\n",
    "\n",
    "Die Funktion _Dense_ sorgt dafür, dass in dem künstlichen neuronalen Netz Schichten vorhanden sind, welche \"vollvernetzt\" sind, was bedeutet, dass jedes künstliche Neuron aus der vorherigen Schicht mit jedem Neuron aus der nächsten Schicht verbunden ist. Der positive Wert des Datentyps _Integer_ steht hierbei für die Anzahl der Dimensionen des Ausgaberaumes beziehungsweise für die Anzahl der Neuronen in diesem. Der Vorteil bei _Dense_\\-Schichten ist, dass jedes Neuron gewichtete Werte von allen Neuronen aus der vorherigen Schicht erhält, was dafür sorgt, dass das lernen in einem künstlichen neuronalen Netz besser möglich ist. Ein Aspekt, welcher dort reinspielt ist das Lernen über Backpropagation\\(siehe Kapitel 2.3.2\\)\n",
    "\n",
    "In der 4. Zeile folgt nach der _Dropout_\\-Funktion erneut eine vollvernetzte \\(_Dense_\\) Schicht, welche 10 Neuronen beinhaltet. Diese Schicht ist die letzte des künstlichen neuronalen Netzes.  In dieser letzten Schicht wird \"_Softmax_\"\\-Aktivierungsfunktion verwendet, da sie aus den Vektoren, welche die letzte Schicht erhält, eine Wahrscheinlichkeitsverteilung errechnet und daher ermitteln kann, zu welcher Wahrscheinlichkeit das Bild eine bestimmte Zahl darstellt. Beispielweise, dass es zu 97% eine 8 darstellt.\n",
    "\n"
   ]
  },
  {
   "cell_type": "markdown",
   "metadata": {
    "collapsed": false
   },
   "source": [
    "## Dropout \\(optional\\)\n",
    "\n",
    "Als optionale Erweiterung \\(evtl. auch für andere Aufgabenstellungen\\) kann noch eine weitere _Dropout_ Funktion hinter der _Dense_ Schicht eingefügt werden. _Dropout_ fokussiert sich immer auf die davorliegende _Dense_\\-Schicht \\(vollvernetzte Schicht\\) und beschreibt, wie Hoch der Anteil an abzuschaltenden Neuronen in dieser sein muss. Der Wert vom Datentyp _Float_ steht hierbei für eine Rate zwischen 0 und 1.0 und stellt einen Bruchteil der zu löschenden Eingabeeinheiten \\(Neuronen\\) dar, da dies beim Training eine wichtige Rolle spielt.\n",
    "\n",
    "Um die Differenz der Genauigkeit zwischen dem Training und dem Testen möglichst gering zu halten \\(um _Overfitting_ des Modells auf den Trainingssatz zu verhindern\\) werden mit der Dropout\\-Funktion gezielt bei jedem _Epoch_ andere zufällige Neuronen \"abgeschaltet\". Diese Möglichkeit sorgt dafür, dass die Neuronen nicht immer die gleichen Werte zu erwarten haben und immer dem gleichen Schema folgen, was bedeutet, dass sie agiler im Bezug auf eine Änderung des gewichteten Eingabewertes sind. Wenn das sogenannte _Fitting_ dann abgeschlossen ist, erhält das künstliche neuronale Netz wieder seine volle Struktur und alle Neuronen werden wieder freigegeben. Lediglich die Eingabe\\- und Ausgabeneuronen \\(in dem _Input\\-_ und _Output\\-Layer_\\) bleiben bestehen. \n",
    "\n"
   ]
  },
  {
   "cell_type": "markdown",
   "metadata": {
    "collapsed": false
   },
   "source": [
    "## Optimizer\n",
    "\n",
    "In diesem Fall wird als _Optimizer_ des künstlichen neuronalen Netzes \"_adam_\" von TensorFlow verwendet, welcher dafür sorgt, dass sich die mittlere Quadratische Abweichung dem Minimum annähert. Adam arbeitet ebenfalls mit dem Gradientenabstiegsverfahren, indem er im Hintergrund das Netz dahingehend optimiert, sodass die Verlustfunktionen dem Minimum angenähert werden.\n",
    "\n"
   ]
  },
  {
   "cell_type": "markdown",
   "metadata": {
    "collapsed": false
   },
   "source": [
    "## Loss\n",
    "\n",
    "In diesem Fall wird als Verlustfunktion die _sparse\\_categorical\\_crossentropy_ \\(Kreuzentropie\\) verwendet, da diese sehr gut den Unterschied zwischen den exakten Labelwerten und dem von dem neuronalen Netz erkannten Ergebnis für die Ziffer errechnen kann.\n",
    "\n"
   ]
  },
  {
   "cell_type": "markdown",
   "metadata": {
    "collapsed": false
   },
   "source": [
    "## Metrics\n",
    "\n",
    "Der Funktionsparameter _metrics_ mit dem Fokus auf de Genauigkeit \\(_accuracy_\\) berechnet dann daraufhin, wie oft dieser Unterschied zwischen den Vorhersagen des künstlichen neuronalen Netzes und der exakten Labelwerte auftritt, beziehungsweise wie oft sich die tatsächlichen Labelwerte mit den Vorhersagen des neuronalen Netzes decken.\n",
    "\n",
    "Der Quelltext zu dem Modellaufbau ist damit abgeschlossen und das Modell wird zurückgegeben.\n",
    "\n",
    "Im nächsten Schritt muss das Modell dann noch auf die Trainingsdaten trainiert werden.\n",
    "\n"
   ]
  },
  {
   "cell_type": "code",
   "execution_count": 10,
   "metadata": {
    "collapsed": false
   },
   "outputs": [
    {
     "name": "stdout",
     "output_type": "stream",
     "text": [
      "Epoch 1/15\n",
      "1688/1688 [==============================] - 3s 2ms/step - loss: 0.3725 - accuracy: 0.8943 - val_loss: 0.2473 - val_accuracy: 0.9320\n",
      "Epoch 2/15\n",
      "1688/1688 [==============================] - 3s 2ms/step - loss: 0.3062 - accuracy: 0.9136 - val_loss: 0.2613 - val_accuracy: 0.9297\n",
      "Epoch 3/15\n",
      "1688/1688 [==============================] - 3s 2ms/step - loss: 0.2948 - accuracy: 0.9171 - val_loss: 0.2383 - val_accuracy: 0.9342\n",
      "Epoch 4/15\n",
      "1688/1688 [==============================] - 3s 2ms/step - loss: 0.2870 - accuracy: 0.9184 - val_loss: 0.2408 - val_accuracy: 0.9342\n",
      "Epoch 5/15\n",
      "1688/1688 [==============================] - 3s 2ms/step - loss: 0.2818 - accuracy: 0.9204 - val_loss: 0.2462 - val_accuracy: 0.9323\n",
      "Epoch 6/15\n",
      "1688/1688 [==============================] - 3s 2ms/step - loss: 0.2775 - accuracy: 0.9223 - val_loss: 0.2467 - val_accuracy: 0.9338\n",
      "Epoch 7/15\n",
      "1688/1688 [==============================] - 3s 2ms/step - loss: 0.2742 - accuracy: 0.9224 - val_loss: 0.2481 - val_accuracy: 0.9278\n",
      "Epoch 8/15\n",
      "1688/1688 [==============================] - 3s 2ms/step - loss: 0.2733 - accuracy: 0.9226 - val_loss: 0.2392 - val_accuracy: 0.9338\n",
      "Epoch 9/15\n",
      "1688/1688 [==============================] - 3s 2ms/step - loss: 0.2704 - accuracy: 0.9242 - val_loss: 0.2309 - val_accuracy: 0.9370\n",
      "Epoch 10/15\n",
      "1688/1688 [==============================] - 3s 2ms/step - loss: 0.2689 - accuracy: 0.9238 - val_loss: 0.2419 - val_accuracy: 0.9317\n",
      "Epoch 11/15\n",
      "1688/1688 [==============================] - 3s 2ms/step - loss: 0.2670 - accuracy: 0.9245 - val_loss: 0.2403 - val_accuracy: 0.9355\n",
      "Epoch 12/15\n",
      "1688/1688 [==============================] - 2s 1ms/step - loss: 0.2647 - accuracy: 0.9265 - val_loss: 0.2509 - val_accuracy: 0.9332\n",
      "Epoch 13/15\n",
      "1688/1688 [==============================] - 2s 1ms/step - loss: 0.2639 - accuracy: 0.9256 - val_loss: 0.2415 - val_accuracy: 0.9340\n",
      "Epoch 14/15\n",
      "1688/1688 [==============================] - 3s 1ms/step - loss: 0.2632 - accuracy: 0.9250 - val_loss: 0.2421 - val_accuracy: 0.9343\n",
      "Epoch 15/15\n",
      "1688/1688 [==============================] - 3s 1ms/step - loss: 0.2614 - accuracy: 0.9261 - val_loss: 0.2486 - val_accuracy: 0.9325\n"
     ]
    },
    {
     "data": {
      "text/plain": [
       "<keras.callbacks.History at 0x25168b5ac50>"
      ]
     },
     "execution_count": 10,
     "metadata": {},
     "output_type": "execute_result"
    }
   ],
   "source": [
    "model.fit(train_images, train_labels, epochs=15, batch_size=32, validation_split=0.1, shuffle = True)"
   ]
  },
  {
   "cell_type": "markdown",
   "metadata": {
    "collapsed": false
   },
   "source": [
    "## Fit\n",
    "\n",
    "In diesem Schritt wird das Modell mithilfe der in TensorFlow integrierten Funktion _.fit\\(\\)_ angepasst. \n",
    "\n",
    "Dies ist eine im Framework integrierte Funktion für das überwachte \\(supervised\\) Learning und passt das Modell von alleine so an, dass es auf den Trainingssätzen möglichst genau die korrekten Vorhersagen zu den MNIST\\-Ziffern wiedergibt. \n",
    "\n",
    "Bei jedem _Epoch_ werden alle Trainingsdaten beachtet und es wird über alle Trainingsdaten gegangen. Dabei werden die Trainingsdaten jeweils in Stapel mit der Stapelgröße \\(_batch\\_size_\\) 32 angepasst. \n",
    "\n",
    "Die Parameter _validation\\_split_ legt dabei fest, dass 10 % der Trainingsdaten als Validierungsdaten am Ende der _Epochs_ verwendet werden. In den Stapeln befinden sich also aufgeteilt 90% der Trainingsdaten. \n",
    "\n",
    "Anzahl der Trainingsvorgänge per Epoch $\\frac{60000*0,9}{32}=1687,5 \\approx 1688$ \n",
    "\n",
    "Der Parameter _shuffle_ sorgt dann zusätzlich dafür, dass vor jeder _Epoch_ die Stapel neu durchgemischt werden.\n",
    "\n",
    "Das Lernkriterium hierbei ist, dass die mittlere quadratische Abweichung auf dem Trainingssatz minimiert wird.\n",
    "\n",
    "Möchte man nun selbst Funktionen an dem Modell gezielt verändern, muss man jedoch die Trainingsfunktion der Modell\\-Klasse überschreiben. Man kann dann jedoch wie gewohnt auf _.fit\\(\\)_ zugreifen, aber dann wird der eigene Lernalgorithmus für das neuronale Netz ausgeführt. Dadurch wird es möglich auch eigene Modelle mithilfe von TensorFlow zu erstellen.\n",
    "\n"
   ]
  },
  {
   "cell_type": "code",
   "execution_count": 11,
   "metadata": {
    "collapsed": false
   },
   "outputs": [
    {
     "name": "stdout",
     "output_type": "stream",
     "text": [
      "313/313 [==============================] - 0s 824us/step - loss: 0.2881 - accuracy: 0.9228\n"
     ]
    }
   ],
   "source": [
    "evaluation_results = model.evaluate(test_images, test_labels)"
   ]
  },
  {
   "cell_type": "markdown",
   "metadata": {
    "collapsed": false
   },
   "source": [
    "## Evaluate\n",
    "\n",
    "Da das Modell jedoch jetzt zu stark auf die Trainingsdaten fokussiert und ausgerichtet ist \\(_overfitting_ auf die Trainingsdaten\\), sorgt die Funktion _evaluate\\(\\)_ nun dafür, dass das Modell, welches auf die Trainingsdaten modelliert wurde, auch auf die Testdaten angewendet wird. Die Funktion speist also durch den Testdatensatz mit seinen Testbildern und Testlabeln neue Daten in das künstliche neuronale Netz ein. Der resultierende Unterschied zwischen dem Modell, welches auf den Trainingsdatensatz ausgerichtet war und wie dieses jetzt mit den Daten aus dem Testdatensatz funktioniert, wird dann in der Variable _evaluation\\_results_ festgehalten.\n",
    "\n",
    "$\\frac{10000}{32}= 312,5\\approx313$ \n",
    "\n",
    "Wenn das Ergebnis dieser Evaluierung passt, dann ist das Modell von dem Trainingsdatensatz ebenfalls sehr gut für den Testdatensatz geeignet.\n",
    "\n",
    "Das trainierte Modell hat eine accuracy von 92,28% auf die Testdaten. Das heißt, dass bei 92,28% der Bildern die richtige Ziffer erkannt wird.\n"
   ]
  },
  {
   "cell_type": "code",
   "execution_count": 12,
   "metadata": {
    "collapsed": false
   },
   "outputs": [
    {
     "name": "stdout",
     "output_type": "stream",
     "text": [
      "1/1 [==============================] - 0s 58ms/step\n"
     ]
    }
   ],
   "source": [
    "predictions = model.predict(test_images[63].reshape(1, 28, 28, 1))"
   ]
  },
  {
   "cell_type": "markdown",
   "metadata": {
    "collapsed": false
   },
   "source": [
    "## Predict\n",
    "\n",
    "In dieser Zeile wird die Vorhersage des trainierten Modells für eine Ziffer an einer bestimmten Stelle im MNIST\\-Datensatz in der Variable _predictions_ gespeichert.\n",
    "\n",
    "Um aufzuzeigen, dass das Modell noch erhebliche Schwächen hat, haben wir ein Beispiel gesucht, bei welchem das Modell nicht die richtige Ziffer erkennt:\n"
   ]
  },
  {
   "cell_type": "code",
   "execution_count": 13,
   "metadata": {
    "collapsed": false
   },
   "outputs": [
    {
     "name": "stdout",
     "output_type": "stream",
     "text": [
      "2\n",
      "3\n"
     ]
    }
   ],
   "source": [
    "print(predictions.argmax())\n",
    "print(test_labels[63])"
   ]
  },
  {
   "cell_type": "code",
   "execution_count": 14,
   "metadata": {
    "collapsed": false
   },
   "outputs": [
    {
     "name": "stdout",
     "output_type": "stream",
     "text": [
      "Ziffer: 3\n"
     ]
    },
    {
     "data": {
      "image/png": "[encoded data removed]",
      "text/plain": [
       "<Figure size 640x480 with 1 Axes>"
      ]
     },
     "metadata": {},
     "output_type": "display_data"
    },
    {
     "name": "stdout",
     "output_type": "stream",
     "text": [
      "Auflösung des Bildes: 28 * 28 \n",
      "Gesamtanzahl der Pixel: 784\n"
     ]
    }
   ],
   "source": [
    "print(\"Ziffer:\", test_labels[63])\n",
    "ziffer = test_images[63]\n",
    "ziffer = ziffer.reshape(28, 28)\n",
    "plt.imshow(ziffer, cmap = plt.cm.binary,\n",
    "           interpolation=\"nearest\")\n",
    "plt.xlabel(\"Zeilen\")\n",
    "plt.ylabel(\"Spalten\")\n",
    "plt.show()\n",
    "print(\"Auflösung des Bildes:\",len(ziffer),\"*\",len(ziffer[0]),\"\\nGesamtanzahl der Pixel:\", len(ziffer)*len(ziffer[0]))"
   ]
  },
  {
   "cell_type": "markdown",
   "metadata": {
    "collapsed": false
   },
   "source": [
    "Diese Ziffer ist für den Menschen eindeutig als 3 erkennbar, wird von unserem Modell jedoch als 2 erkannt. Es stellt sich also die Frage, wie unser vorhandenes neuronales Netz optimiert werden kann um die accuracy, also den Prozentsatz wie viele der predictions wahr sind, zu verbessern.\n"
   ]
  },
  {
   "cell_type": "markdown",
   "metadata": {
    "collapsed": false
   },
   "source": [
    "## Berechnung der Relevanz des ersten Modells\n",
    "\n"
   ]
  },
  {
   "cell_type": "code",
   "execution_count": 15,
   "metadata": {
    "collapsed": false,
    "scrolled": true
   },
   "outputs": [
    {
     "name": "stdout",
     "output_type": "stream",
     "text": [
      "0.8757700205338809\n"
     ]
    }
   ],
   "source": [
    "tp = 0\n",
    "fn = 0\n",
    "for i in range(len(test_labels)):\n",
    "    if test_labels[i] == 8:\n",
    "        p = model.predict(test_images[i].reshape(1,28,28,1), verbose = False )\n",
    "        if p.argmax() == 8:\n",
    "            tp += 1\n",
    "        else:\n",
    "            fn += 1\n",
    "relevance1 = tp/(tp+fn)\n",
    "print(relevance1)"
   ]
  },
  {
   "cell_type": "markdown",
   "metadata": {
    "collapsed": false
   },
   "source": [
    "Durch den Quelltext, wird exemplarisch die Relevanz der Zahl 8 berechnet. Es wird also errechnet wie viele der Ziffern, welche als 8 klassifiziert wurden auch tatsächlich eine 8 sind. 87,58% lassen hierbei noch Spielraum für Optimierungen.\n"
   ]
  },
  {
   "cell_type": "markdown",
   "metadata": {
    "collapsed": false
   },
   "source": [
    "## Berechnung der Sensitivität des ersten Modells\n",
    "\n"
   ]
  },
  {
   "cell_type": "code",
   "execution_count": 16,
   "metadata": {
    "collapsed": false,
    "scrolled": true
   },
   "outputs": [
    {
     "name": "stdout",
     "output_type": "stream",
     "text": [
      "0.9064824654622742\n"
     ]
    }
   ],
   "source": [
    "tp = 0\n",
    "fn = 0\n",
    "for i in range(len(test_labels)):\n",
    "    p = model.predict(test_images[i].reshape(1,28,28,1), verbose = False)\n",
    "    if p.argmax() == 8:\n",
    "        if test_labels[i] == 8:\n",
    "            tp += 1\n",
    "        else:\n",
    "            fn += 1\n",
    "sensitivity1= tp/(tp+fn)\n",
    "print(sensitivity1)"
   ]
  },
  {
   "cell_type": "markdown",
   "metadata": {
    "collapsed": false
   },
   "source": [
    "Durch den Quelltext, wird exemplarisch die Sensitivität der Zahl 8 berechnet. Es wird also errechnet wie viele der 8ten des Datensatzes auch als 8 klassifiziert wurden. Auch hierbei lässt der Wert von 90,65% noch Spielraum für Optimierung.\n"
   ]
  },
  {
   "cell_type": "markdown",
   "metadata": {
    "collapsed": false
   },
   "source": [
    "## Berechnung des F\\-Scores des ersten Modells\n",
    "\n"
   ]
  },
  {
   "cell_type": "code",
   "execution_count": 17,
   "metadata": {
    "collapsed": false
   },
   "outputs": [
    {
     "name": "stdout",
     "output_type": "stream",
     "text": [
      "0.8908616187989556\n"
     ]
    }
   ],
   "source": [
    "F1 = 2 * ((relevance1*sensitivity1)/(relevance1+sensitivity1))\n",
    "print(F1)"
   ]
  },
  {
   "cell_type": "markdown",
   "metadata": {
    "collapsed": false
   },
   "source": [
    "Mit der Relevanz und der Sensitivität anhand der 8 als Beispiel, kommen wir auf einen F\\-Score von 89,09 anhand der Daten der Ziffer 8. Den F\\-Score für das gesamte Modell könnte errechnet werden, indem Relevanz und Sensitivität für jede einzelne Ziffer bestimmt wird und aus diesen dann der Durchschnittswert errechnet wird. Der F\\-Scores unseres Modells für die Ziffer 8 soll uns jedoch genügen um das Modell später mit dem zweiten Modell vergleichen zu können.\n"
   ]
  },
  {
   "cell_type": "markdown",
   "metadata": {
    "collapsed": false
   },
   "source": [
    "# Das zweite MNIST\\-Modell\n",
    "\n"
   ]
  },
  {
   "cell_type": "markdown",
   "metadata": {
    "collapsed": false
   },
   "source": [
    "In Kapitel 3.1 haben wir uns bereits mit den Arten von neuronalen Netzes beschäftigt, darunter auch mit convolutional neural networks. Der Vorteil dieser neuronalen Netze ist, dass die Bilder, bevor das Modell mit diesen trainiert, gefiltert werden. Dadurch werden bestimmte Eigenschaften der Bilder hervorgehoben, beispielsweise gerade Kanten von Ziffern. Wie bereits thematisiert, wird das Modell im Anschluss darauf trainiert iese Eigenschaften bei den Inputbildern zu erkennen und anhand von diesen die Ziffer zu Klassifizieren. Mit diesem Wissen wollen wir nun ein neues Modell und neuronales Netz erstellen, mit höherer accuracy als dies bei dem ersten Modell der Fall war. \n",
    "\n",
    "Im Folgenden bauen wir uns nun also ein neues künstliches neuronales Netz und Modell:\n",
    "\n"
   ]
  },
  {
   "cell_type": "code",
   "execution_count": 18,
   "metadata": {
    "collapsed": false
   },
   "outputs": [],
   "source": [
    "model2 = tf.keras.models.Sequential()\n",
    "\n",
    "model2.add(tf.keras.layers.Conv2D(filters=32, kernel_size=[5, 5], activation=\"relu\"))\n",
    "model2.add(tf.keras.layers.MaxPooling2D(pool_size=[2, 2]))\n",
    "\n",
    "model2.add(tf.keras.layers.Conv2D(filters=64, kernel_size=[5, 5], activation=\"relu\"))\n",
    "model2.add(tf.keras.layers.MaxPooling2D(pool_size=[2, 2]))"
   ]
  },
  {
   "cell_type": "markdown",
   "metadata": {
    "collapsed": false
   },
   "source": [
    "## Sequential\n",
    "\n",
    "Es wird also ein einfaches 2 dimensionales neuronales Netz mithilfe des von TensorFlow bereitgestellten Modells _Sequential_ aufgestellt.\n",
    "\n",
    "Dieses Modell beinhaltet die Schichten, Knoten sowie Eingabe\\- und Ausgabetensoren, welche benötigt werden um an diesem Modell beim Trainieren Veränderungen vorzunehmen. Dieser lineare Schichtenstapel wird dann in der Variable _model_ gespeichert.\n",
    "\n"
   ]
  },
  {
   "cell_type": "markdown",
   "metadata": {
    "collapsed": false
   },
   "source": [
    "## Conv2D\n",
    "\n",
    "Im nächsten Schritt \\(Zeile 3 und Zeile 4\\) werden die ersten 2 Schichten des neuronalen Netzes aufgebaut, indem diese jeweils mit sogenannten Filtern \\(Kerneln\\) und einer Aktivierungsfunktion. Auf die Filter wird genauer im nächsten Kapitel eingegangen.\n",
    "\n",
    "Die Aktivierungsfunktion \\(_relu_\\) wird im Zusammenhand mit der Klassifizierung im MNIST\\-Datensatz verwendet, da sich der Schwellwert aufgrund der Grauwerte sehr gut eignet. Dies lieht daran, dass das Neuron feuert, falls es einen Wert größer 0 ist, da dann genau dieser Pixel als hoher Grauwert identifiziert wird. Andernfalls wird eine 0 ausgegeben, damit das Modell mit dieser weiterhin arbeiten kann.\n",
    "\n"
   ]
  },
  {
   "cell_type": "markdown",
   "metadata": {
    "collapsed": false
   },
   "source": [
    "## Filter\n",
    "\n",
    "Die 32 Filter sorgen für das erste Filtern der Bilder, bevor man mit dem vertieften Lernen und Trainieren des neuronalen Netzes beginnt. Filter funktionieren, indem jeder Grauwert des Bildes mit dem Wert im Filter multipliziert wird und dann dadurch ein neuer gewichteter Wert entstehen kann. Mithilfe dieses neu errechneten Wertes können dem Bildinhalte, welche für die Erkennung der Zahlen zu vernachlässigen sind im Modell unterdrückt beziehungsweise ausgeblendet werden. Es gibt beispielsweise Filter, welche sich eher auf horizontale und eher auf vertikale Linien fokussieren, da sie die restlichen Grauwerte innerhalb des Filters mit einer positiven natürlichen Zahl multiplizieren und dadurch für das Pooling deutlich wertender machen. Filter können sich zudem auf Ecken oder Kanten einer gezeichneten Zahl spezialisieren, wodurch es dem künstlichen neuronalen Netz vor dem Training erleichtert wird, die Zahlen anhand ihrer eindeutig gemachten Kanten besser zu erkennen als vorher. Wie groß diese Filter dann sind, bestimmt die sogenannte _kernel\\_size_. Während des Lernprozesses des neuronalen Netzes wird dann bestimmt, welche Filter durch ihre Eigenschaften am besten passen und welche eher unbrauchbarer zur Klassifizierung der Zahlen sind.\n",
    "\n"
   ]
  },
  {
   "cell_type": "code",
   "execution_count": 19,
   "metadata": {
    "collapsed": false
   },
   "outputs": [
    {
     "data": {
      "image/png": "[encoded data removed]",
      "text/plain": [
       "<IPython.core.display.Image object>"
      ]
     },
     "metadata": {},
     "output_type": "display_data"
    },
    {
     "name": "stdout",
     "output_type": "stream",
     "text": [
      "\n",
      " Abbildung 2: Beispielberechnung eines Filters \n",
      "\n"
     ]
    },
    {
     "data": {
      "image/png": "[encoded data removed]",
      "text/plain": [
       "<IPython.core.display.Image object>"
      ]
     },
     "metadata": {},
     "output_type": "display_data"
    },
    {
     "name": "stdout",
     "output_type": "stream",
     "text": [
      "\n",
      " Abbildung 3: Beispiel eines angewandten Filters\n"
     ]
    }
   ],
   "source": [
    "display(Image(\"Abbildung 2.png\"))\n",
    "print(\"\\n Abbildung 2: Beispielberechnung eines Filters \\n\")\n",
    "display(Image(\"Abbildung 3.png\"))\n",
    "print(\"\\n Abbildung 3: Beispiel eines angewandten Filters\")"
   ]
  },
  {
   "cell_type": "markdown",
   "metadata": {
    "collapsed": false
   },
   "source": [
    "In der 2. Abbildung erkennt man, inwiefern die Filter rechnen. Jeder Grauwert des der einzelnen Pixel wird mir der dazugehörigen Zahl im Filter multipliziert. Am Ende werden diese Werte dann addiert und man erhält einen neuen Wert für den im Filter zentrierten Pixel. In diesem Fall wird der Filter $F_1$ dazu verwendet, um die rechte vertikale Kante der Zahl hervorzuheben, da er durch seine Eigenschaft \\(linke Pixelwerte des Ausschnittes werden mir \\-1 multipliziert und rechte mit \\+1\\) die rechte vertikale Kante der 7 stärker gewichtet als die linke. Da der Filter pixelweise verschoben wird, wirken sich die Grauwerte der benachbarten Pixel ebenfalls auf den neuen Wert aus \\(mehr dazu findet man in dem nächsten Abschnitt zum Pooling\\).\n",
    "\n",
    "In der 3. Abbildung kann man erkennen, dass sich das erste Bild stark von den anderen abhebt, was daran liegt, dass dieses Bild die ungefilterte 7 darstellt. Das 2. Bild dieser Abbildung stellt die Zahl 7 mit einem Filter dar, welcher auf die Erkennung linken vertikalen Kante ausgerichtet ist. Analog funktioniert dies mit dem 3. Bild der Abbildung, wobei der Filter auf die rechte Seitenkante der Zahl ausgelegt ist. In dem 4. und 5. Bild wurden Filter angewandt die sich jeweils auf die obere und untere horizontale Kante ausrichten.\n",
    "\n",
    "Des Weiteren werden diese Werte dann in einem Poolingverfahren \\(_MaxPooling2D_\\) zusammengefasst.\n",
    "\n"
   ]
  },
  {
   "cell_type": "markdown",
   "metadata": {
    "collapsed": false
   },
   "source": [
    "## MaxPooling2D\n",
    "\n",
    "Das _MaxPooling2D_ in Zeile 4 befasst sich mit der weiteren Filterung der Grauwerte der Pixel, indem es sich in diesem Fall jeweils 2 mal 2 Pixel Ausschnitte aus dem Bild nimmt und aus diesen 4 Grauwerten den größten bestimmt und diesen mit den anderen Maximalwerten zusammenfasst, sodass durch das \"MaxPooling2D\" das Bild in einem viertel der Datenmenge zusammenfasst werden kann.\n",
    "\n",
    "Analog funktioniert es mit _Conv2D_ und _MaxPooling2D_ bei den darauffolgenden Schichten, jedoch wird dort die A<span style='font-size:small'>nzahl der Filter erh</span>öht, damit nach dem groben Filtern noch einem intensiveres Filtern ermöglicht wird.\n",
    "\n"
   ]
  },
  {
   "cell_type": "code",
   "execution_count": 20,
   "metadata": {
    "collapsed": false
   },
   "outputs": [],
   "source": [
    "model2.add(tf.keras.layers.Flatten())\n",
    "model2.add(tf.keras.layers.Dense(128))\n",
    "model2.add(tf.keras.layers.Dense(10, activation=\"softmax\"))\n",
    "model2.compile(optimizer='adam',\n",
    "                  loss=tf.keras.losses.sparse_categorical_crossentropy,\n",
    "                  metrics=['accuracy'])"
   ]
  },
  {
   "cell_type": "markdown",
   "metadata": {
    "collapsed": false
   },
   "source": [
    "Der oben stehende Quelltext ist gleich dem Quelltext des ersten Versuches, es kann also sehr gut aufgezeigt werden, welchen Einfluss die Filter auf den Trainingsprozess sowie die accuracy und den F\\-Score des Modells haben.\n",
    "\n"
   ]
  },
  {
   "cell_type": "code",
   "execution_count": 21,
   "metadata": {
    "collapsed": false
   },
   "outputs": [
    {
     "name": "stdout",
     "output_type": "stream",
     "text": [
      "Epoch 1/10\n",
      "1688/1688 [==============================] - 23s 13ms/step - loss: 0.1176 - accuracy: 0.9639 - val_loss: 0.0543 - val_accuracy: 0.9848\n",
      "Epoch 2/10\n",
      "1688/1688 [==============================] - 22s 13ms/step - loss: 0.0427 - accuracy: 0.9866 - val_loss: 0.0486 - val_accuracy: 0.9860\n",
      "Epoch 3/10\n",
      "1688/1688 [==============================] - 23s 13ms/step - loss: 0.0291 - accuracy: 0.9909 - val_loss: 0.0344 - val_accuracy: 0.9903\n",
      "Epoch 4/10\n",
      "1688/1688 [==============================] - 22s 13ms/step - loss: 0.0233 - accuracy: 0.9926 - val_loss: 0.0339 - val_accuracy: 0.9902\n",
      "Epoch 5/10\n",
      "1688/1688 [==============================] - 22s 13ms/step - loss: 0.0181 - accuracy: 0.9943 - val_loss: 0.0339 - val_accuracy: 0.9917\n",
      "Epoch 6/10\n",
      "1688/1688 [==============================] - 23s 13ms/step - loss: 0.0172 - accuracy: 0.9942 - val_loss: 0.0342 - val_accuracy: 0.9927\n",
      "Epoch 7/10\n",
      "1688/1688 [==============================] - 22s 13ms/step - loss: 0.0135 - accuracy: 0.9956 - val_loss: 0.0398 - val_accuracy: 0.9913\n",
      "Epoch 8/10\n",
      "1688/1688 [==============================] - 22s 13ms/step - loss: 0.0118 - accuracy: 0.9963 - val_loss: 0.0391 - val_accuracy: 0.9933\n",
      "Epoch 9/10\n",
      "1688/1688 [==============================] - 22s 13ms/step - loss: 0.0106 - accuracy: 0.9962 - val_loss: 0.0533 - val_accuracy: 0.9883\n",
      "Epoch 10/10\n",
      "1688/1688 [==============================] - 21s 12ms/step - loss: 0.0093 - accuracy: 0.9972 - val_loss: 0.0580 - val_accuracy: 0.9903\n"
     ]
    },
    {
     "data": {
      "text/plain": [
       "<keras.callbacks.History at 0x25178dc5c00>"
      ]
     },
     "execution_count": 21,
     "metadata": {},
     "output_type": "execute_result"
    }
   ],
   "source": [
    "model2.fit(train_images, train_labels, epochs=10, batch_size=32, validation_split=0.1, shuffle = True)"
   ]
  },
  {
   "cell_type": "code",
   "execution_count": 22,
   "metadata": {
    "collapsed": false
   },
   "outputs": [
    {
     "name": "stdout",
     "output_type": "stream",
     "text": [
      "313/313 [==============================] - 1s 5ms/step - loss: 0.0460 - accuracy: 0.9896\n"
     ]
    }
   ],
   "source": [
    "evaluation_results = model2.evaluate(test_images, test_labels)"
   ]
  },
  {
   "cell_type": "markdown",
   "metadata": {
    "collapsed": false
   },
   "source": [
    "Man sieht, dass die accuracy des neuen Modells dich deutlich gesteigert hat. Bei den Testdaten lag die accuracy bei 98,96%. also um mehr als 6% höher als die accuracy des ersten Modells und dies sogar mit 5 epochs weniger. Schauen wir uns nun an, ob unser neues Modell die 3, welche das erste Modell fälschlicherweise als 2 erkannt hat, richtig erkennt:\n",
    "\n"
   ]
  },
  {
   "cell_type": "code",
   "execution_count": 23,
   "metadata": {
    "collapsed": false
   },
   "outputs": [
    {
     "name": "stdout",
     "output_type": "stream",
     "text": [
      "1/1 [==============================] - 0s 46ms/step\n",
      "prediction des Modells: 3\n",
      "Ziffer die dargestellt werden soll: 3\n"
     ]
    }
   ],
   "source": [
    "prediction2 = model2.predict(test_images[63].reshape(1, 28, 28, 1))\n",
    "print(\"prediction des Modells:\" ,prediction2.argmax())\n",
    "print(\"Ziffer die dargestellt werden soll:\",test_labels[63])"
   ]
  },
  {
   "cell_type": "markdown",
   "metadata": {
    "collapsed": false
   },
   "source": [
    "Die 3 wurde nun durch unser neues Modell richtig erkannt, für diese konkrete handgeschriebene Ziffer ist unser zweites Modell besser, da es die Ziffer richtig erkennt.\n"
   ]
  },
  {
   "cell_type": "markdown",
   "metadata": {
    "collapsed": false
   },
   "source": [
    "Um aufzuzeigen, wie wirksam die Filter sind, ist folgendes Beispiel geeignet :"
   ]
  },
  {
   "cell_type": "code",
   "execution_count": 24,
   "metadata": {
    "collapsed": false
   },
   "outputs": [
    {
     "name": "stdout",
     "output_type": "stream",
     "text": [
      "Ziffer: 4\n"
     ]
    },
    {
     "data": {
      "image/png": "[encoded data removed]",
      "text/plain": [
       "<Figure size 640x480 with 1 Axes>"
      ]
     },
     "metadata": {},
     "output_type": "display_data"
    },
    {
     "name": "stdout",
     "output_type": "stream",
     "text": [
      "Auflösung des Bildes: 28 * 28 \n",
      "Gesamtanzahl der Pixel: 784\n"
     ]
    }
   ],
   "source": [
    "print(\"Ziffer:\", test_labels[33])\n",
    "ziffer = test_images[33]\n",
    "ziffer = ziffer.reshape(28, 28)\n",
    "plt.imshow(ziffer, cmap = plt.cm.binary,\n",
    "           interpolation=\"nearest\")\n",
    "plt.xlabel(\"Zeilen\")\n",
    "plt.ylabel(\"Spalten\")\n",
    "plt.show()\n",
    "print(\"Auflösung des Bildes:\",len(ziffer),\"*\",len(ziffer[0]),\"\\nGesamtanzahl der Pixel:\", len(ziffer)*len(ziffer[0]))"
   ]
  },
  {
   "cell_type": "markdown",
   "metadata": {
    "collapsed": false
   },
   "source": [
    "Der Mensch würde diese Ziffer vermutlich nicht eindeutig als 4 erkennen, das Modell erkennt dies jedoch als 4, welches an der Erkennung der Kanten liegt. Hierbei lässt sich auch erneut der Unterschied zwischen den beiden Modellen aufzeigen: \n"
   ]
  },
  {
   "cell_type": "code",
   "execution_count": 25,
   "metadata": {
    "collapsed": false
   },
   "outputs": [
    {
     "name": "stdout",
     "output_type": "stream",
     "text": [
      "1/1 [==============================] - 0s 16ms/step\n",
      "1/1 [==============================] - 0s 16ms/step\n",
      "prediction des ersten Modells: 6\n",
      "prediction des zweiten Modells: 4\n",
      "Ziffer die dargestellt werden soll: 4\n"
     ]
    }
   ],
   "source": [
    "prediction3 = model.predict(test_images[33].reshape(1, 28, 28, 1))\n",
    "prediction4 = model2.predict(test_images[33].reshape(1, 28, 28, 1))\n",
    "print(\"prediction des ersten Modells:\" ,prediction3.argmax())\n",
    "print(\"prediction des zweiten Modells:\", prediction4.argmax())\n",
    "print(\"Ziffer die dargestellt werden soll:\",test_labels[33])"
   ]
  },
  {
   "cell_type": "markdown",
   "metadata": {
    "collapsed": false
   },
   "source": [
    "Während unser erstes Modell in dem Bild eine 6 erkennt, erkennt das zweite Modell eine 4. \n",
    "\n",
    "Schauen wir uns abschließend die Relevanz und Sensitivität für das zweite Modell an, auch hierbei wählen wir wieder exemplarisch die Ziffer 8\n"
   ]
  },
  {
   "cell_type": "markdown",
   "metadata": {
    "collapsed": false
   },
   "source": [
    "## Berechnung der Relevanz des zweiten Modells\n",
    "\n"
   ]
  },
  {
   "cell_type": "code",
   "execution_count": 26,
   "metadata": {
    "collapsed": false,
    "scrolled": true
   },
   "outputs": [
    {
     "name": "stdout",
     "output_type": "stream",
     "text": [
      "0.9948665297741273\n"
     ]
    }
   ],
   "source": [
    "tp = 0\n",
    "fn = 0\n",
    "for i in range(len(test_labels)):\n",
    "    if test_labels[i] == 8:\n",
    "        p = model2.predict(test_images[i].reshape(1,28,28,1), verbose = False)\n",
    "        if p.argmax() == 8:\n",
    "            tp += 1\n",
    "        else:\n",
    "            fn += 1\n",
    "relevance2 = tp/(tp+fn)\n",
    "print(relevance2)"
   ]
  },
  {
   "cell_type": "markdown",
   "metadata": {
    "collapsed": false
   },
   "source": [
    "Es lässt sich ein deutlicher Anstieg der Relevanz feststellen, auch hier wieder exemplarisch für die Ziffer 8. Die Relevanz beträgt nun 99,49%, demzufolge werden 99,49% der 8ten im MNIST Testdatensatz auch als 8 von unserem Modell klassifiziert. Die Relevanz für die Zahl 8 konnte durch unser zweites Modell also deutlich verbessert werden, eine Steigerung von beinahe 11%.\n"
   ]
  },
  {
   "cell_type": "markdown",
   "metadata": {
    "collapsed": false
   },
   "source": [
    "## Berechnung der Sensitivität des zweiten Modells\n",
    "\n"
   ]
  },
  {
   "cell_type": "code",
   "execution_count": 27,
   "metadata": {
    "collapsed": false,
    "scrolled": true
   },
   "outputs": [
    {
     "name": "stdout",
     "output_type": "stream",
     "text": [
      "0.9857578840284842\n"
     ]
    }
   ],
   "source": [
    "tp = 0\n",
    "fn = 0\n",
    "for i in range(len(test_labels)):\n",
    "    p = model2.predict(test_images[i].reshape(1,28,28,1), verbose = False)\n",
    "    if p.argmax() == 8:\n",
    "        if test_labels[i] == 8:\n",
    "            tp += 1\n",
    "        else:\n",
    "            fn += 1\n",
    "sensitivity2 = tp/(tp+fn)\n",
    "print (sensitivity2)"
   ]
  },
  {
   "cell_type": "markdown",
   "metadata": {
    "collapsed": false
   },
   "source": [
    "Auch bei der Sensitivität lässt sich ein deutlicher Anstieg feststellen, ebenfalls exemplarisch für die Ziffer 8. Die Sensitivität beträgt nun 98,58%, das heißt das 99,58% der Ziffern, welche von unserem Modell als 8 klassifiziert wurden auch tatsächlich 8ten waren. Auch die Sensitivität für die Zahl 8 konnte durch unser zweites Modell deutlich gesteigert werden, mit einer Steigerung von beinahe 8%.\n"
   ]
  },
  {
   "cell_type": "markdown",
   "metadata": {
    "collapsed": false
   },
   "source": [
    "## Berechnung des F\\-Scores des zweiten Modells\n",
    "\n"
   ]
  },
  {
   "cell_type": "code",
   "execution_count": 28,
   "metadata": {
    "collapsed": false
   },
   "outputs": [
    {
     "name": "stdout",
     "output_type": "stream",
     "text": [
      "0.9902912621359223\n"
     ]
    }
   ],
   "source": [
    "F2 = 2 * ((relevance2*sensitivity2)/(relevance2+sensitivity2))\n",
    "print(F2)"
   ]
  },
  {
   "cell_type": "markdown",
   "metadata": {
    "collapsed": false
   },
   "source": [
    "Logischerweise lässt sich auch beim F\\-Score ein deutlicher Anstieg feststellen, da sowohl die Relevanz als auch die Sensitivität des Modells für die Zahl 8 gesteigert werden konnten. Der F\\-Score konnte durch unser zweites Modell um fast 10% gesteigert werden. \n"
   ]
  },
  {
   "cell_type": "markdown",
   "metadata": {
    "collapsed": false
   },
   "source": [
    "# Fazit\n",
    "\n"
   ]
  },
  {
   "cell_type": "markdown",
   "metadata": {
    "collapsed": false
   },
   "source": [
    "In unserer Ausarbeitung haben wir uns zunächst Grundlegend mit dem MNIST Datensatz beschäftigt und haben anschließend alle nötigen Grundlagen für den Aufbau eines Modells zur Klassifizierung der handgeschriebenen Ziffern im Datensatz MNIST. Mithilfe dieser Grundlagen haben wir im Anschluss mithilfe von TensorFlow ein feed forward neural network aufgebaut und dieses mithilfe des MNIST Datensatzes trainiert. Hierbei waren jedoch die accuracy sowie auch der F\\-Score und damit verbunden die Relevanz und Sensitivität noch steigerbar, weshalb wir ein zweites Modell, basierend auf einem convolutional neural network, erstellt und trainiert haben. Durch die Vorfilterung der Bilder und damit des Inputs des neuronalen Netzes, konnte die Genauigkeit, die Relevanz, die Sensitivität sowie der F\\-Score gesteigert werden. Es kann also gesagt werden, dass das zweite Modell besser für die Erkennung handgeschriebener Ziffern geeignet ist. \n",
    "\n"
   ]
  },
  {
   "cell_type": "markdown",
   "metadata": {
    "collapsed": false
   },
   "source": [
    "Fabio Schumacher und Niklas Dziwisch\n",
    "\n",
    "Introduction to Data Science \\(WWI 22DSB\\) Prof. Dr. Bernhard Drabant\n",
    "\n",
    "Abgabe: 09.12.2022\n",
    "\n"
   ]
  },
  {
   "cell_type": "markdown",
   "metadata": {
    "collapsed": false
   },
   "source": [
    "# Quellenverzeichnis\n",
    "\n"
   ]
  },
  {
   "attachments": {},
   "cell_type": "markdown",
   "metadata": {
    "collapsed": false
   },
   "source": [
    "**C**\n",
    "\n",
    "\\[[https://www.computerweekly.com/de/definition/Backpropagation\\-Algorithmus](https://www.computerweekly.com/de/definition/Backpropagation-Algorithmus) \\]\\([https://www.computerweekly.com/de/definition/Backpropagation\\-Algorithmus\\#](https://www.computerweekly.com/de/definition/Backpropagation-Algorithmus#)\\) \\(zuletzt aufgerufen: 22.11.2022\\)\n",
    "\n",
    "[https://dlapplications.github.io/2018\\-07\\-17\\-cnn\\-introduction/\\#2\\-mạng\\-nơ\\-ron\\-tích\\-chập\\-convolutional\\-neural\\-network](https://dlapplications.github.io/2018-07-17-cnn-introduction/#2-m%E1%BA%A1ng-n%C6%A1-ron-t%C3%ADch-ch%E1%BA%ADp-convolutional-neural-network)  \\(zuletzt aufgerufen: 01.12.2022\\)\n",
    "\n",
    "**D**\n",
    "\n",
    "Deru, Matthieu/Ndiaye, Alassane: Deep Learning mit TensorFlow, Keras und TensorFlow.js. Bonn 2020\n",
    "\n",
    "[https://datascience.eu/de/maschinelles\\-lernen/relu\\-aktivierungsfunktion/](https://datascience.eu/de/maschinelles-lernen/relu-aktivierungsfunktion/) \\(zuletzt abgerufen: 16.11.2022\\)\n",
    "\n",
    "[https://databasecamp.de/ki/gradientenverfahren\\-ein\\-steiler\\-abstieg\\#Wofuer\\_nutzt\\_man\\_das\\_Gradientenabstiegsverfahren](https://databasecamp.de/ki/gradientenverfahren-ein-steiler-abstieg#Wofuer_nutzt_man_das_Gradientenabstiegsverfahren) \\(zuletzt aufgerufen: 28.11.2022\\)\n",
    "\n",
    "**H**\n",
    "\n",
    "[https://hack\\-deck.de/gradientenverfahren\\-einfach\\-erklaert\\-beispiel](https://hack-deck.de/gradientenverfahren-einfach-erklaert-beispiel)  \\(zuletzt aufgerufen: 28.11.2022\\)\n",
    "\n",
    "**I**\n",
    "\n",
    "[https://www.ibm.com/cloud/learn/gradient\\-descent](https://www.ibm.com/cloud/learn/gradient-descent) \\(zuletzt aufgerufen: 26.11.2022\\)\n",
    "\n",
    "**M**\n",
    "\n",
    "https://matplotlib.org/ \\(zuletzt aufgerufen \\(03.12.2022\\)\n",
    "\n",
    "**N**\n",
    "\n",
    "http://www.neuronalesnetz.de/aktivitaet.html \\(zuletzt abgerufen: 18.11.2022\\)\n",
    "\n",
    "**T**\n",
    "\n",
    "Tensorflow \\(Quellen zu dem Quelltext\\):\n",
    "\n",
    "[https://www.tensorflow.org/api\\_docs/python/tf/keras/layers/Conv2D?version=nightly](https://www.tensorflow.org/api_docs/python/tf/keras/layers/Conv2D?version=nightly) \\(zuletzt abgerufen: 04.12.2022\\)\n",
    "\n",
    "[https://www.tensorflow.org/api\\_docs/python/tf/keras/layers/MaxPool2D?version=nightly](https://www.tensorflow.org/api_docs/python/tf/keras/layers/MaxPool2D?version=nightly) \\(zuletzt abgerufen: 11.11.2022\\)\n",
    "\n",
    "[https://www.tensorflow.org/api\\_docs/python/tf/keras?version=nightly](https://www.tensorflow.org/api_docs/python/tf/keras?version=nightly) \\(zuletzt abgerufen: 12.11.2022\\)\n",
    "\n",
    "[https://www.tensorflow.org/api\\_docs/python/tf/keras/layers/Dropout](https://www.tensorflow.org/api_docs/python/tf/keras/layers/Dropout) \\(zuletzt abgerufen: 13.11.2022\\)\n",
    "\n",
    "[https://www.tensorflow.org/api\\_docs/python/tf/keras/layers/Flatten](https://www.tensorflow.org/api_docs/python/tf/keras/layers/Flatten) \\(zuletzt abgerufen: 16.11.2022\\)\n",
    "\n",
    "[https://www.tensorflow.org/api\\_docs/python/tf/keras/layers/Dense?version=nightly](https://www.tensorflow.org/api_docs/python/tf/keras/layers/Dense?version=nightly) \\(zuletzt abgerufen: 21.12.2022\\)\n",
    "\n",
    "[https://www.tensorflow.org/api\\_docs/python/tf/keras/Model?version=nightly](https://www.tensorflow.org/api_docs/python/tf/keras/Model?version=nightly) \\(zuletzt abgerufen: 03.12.2022\\)\n",
    "\n",
    "[https://www.tensorflow.org/guide/keras/sequential\\_model\\#when\\_to\\_use\\_a\\_sequential\\_model](https://www.tensorflow.org/guide/keras/sequential_model#when_to_use_a_sequential_model) \\(zuletzt abgerufen: 03.12.2022\\)\n",
    "\n",
    "[https://www.tensorflow.org/guide/keras/customizing\\_what\\_happens\\_in\\_fit](https://www.tensorflow.org/guide/keras/customizing_what_happens_in_fit) \\(zuletzt abgerufen 04.12.2022\\)\n",
    "\n",
    "Weitere Quellen: \n",
    "\n",
    "[https://towardsdatascience.com/no\\-kernels\\-filters\\-are\\-not\\-the\\-same\\-b230ec192ac9](https://towardsdatascience.com/no-kernels-filters-are-not-the-same-b230ec192ac9) \\(zuletzt abgerufen: 01.12.2022\\)\n",
    "\n",
    "**W**\n",
    "\n",
    "Wilmott, Paul: Machine Learning. An Applied Mathematics Introduction. Verlagsort ohne Angaben. 2019 \n",
    "\n",
    "[https://de.wikipedia.org/wiki/Rekurrentes\\_neuronales\\_Netz](https://de.wikipedia.org/wiki/Rekurrentes_neuronales_Netz) \\(17.11.2022\\)\n",
    "\n",
    "**Y**  \n",
    "\n",
    "https://yann.lecun.com/exdb/mnist/ \\(zuletzt abgerufen: 23.10.2022\\)\n",
    "\n",
    "https://www.youtube.com/watch?v=bRyOi0L6Rs8 \\(zuletzt abgerufen: 22.11.2022\\)\n",
    "\n",
    "https://www.youtube.com/watch?v=RpQQbMQb8qI \\(zuletzt abgerufen: 03.12.2022\\)\n",
    "\n"
   ]
  }
 ],
 "metadata": {
  "kernelspec": {
   "display_name": "Python 3 (system-wide)",
   "language": "python",
   "metadata": {
    "cocalc": {
     "description": "Python 3 programming language",
     "priority": 100,
     "url": "https://www.python.org/"
    }
   },
   "name": "python3",
   "resource_dir": "/ext/jupyter/kernels/python3"
  },
  "language_info": {
   "codemirror_mode": {
    "name": "ipython",
    "version": 3
   },
   "file_extension": ".py",
   "mimetype": "text/x-python",
   "name": "python",
   "nbconvert_exporter": "python",
   "pygments_lexer": "ipython3",
   "version": "3.10.8"
  },
  "vscode": {
   "interpreter": {
    "hash": "2440498ac7cdc02f52275da5f79f6c6338e2ed31436156611535857636e9ea66"
   }
  }
 },
 "nbformat": 4,
 "nbformat_minor": 4
}
